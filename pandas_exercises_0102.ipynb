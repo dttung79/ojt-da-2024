{
 "cells": [
  {
   "cell_type": "markdown",
   "id": "cd55fdfb",
   "metadata": {},
   "source": [
    "# Pandas Exercises for Tutorial 1 & 2\n",
    "\n",
    "This notebook contains exercises based on the first two Pandas tutorials. Follow the instructions and complete the exercises by writing your code in the provided cells."
   ]
  },
  {
   "cell_type": "markdown",
   "id": "2fd06bb3",
   "metadata": {},
   "source": [
    "## Tutorial 1: Introduction to Pandas"
   ]
  },
  {
   "cell_type": "markdown",
   "id": "49a42db2",
   "metadata": {},
   "source": [
    "### Exercise 1: Import Data\n",
    "\n",
    "1. Import the file `exercise_0102.csv` into a Pandas DataFrame.\n",
    "2. Display the first 7 rows and the last 3 rows of the DataFrame.\n",
    "\n",
    "```python\n",
    "# Your code here\n",
    "```"
   ]
  },
  {
   "cell_type": "code",
   "execution_count": null,
   "id": "f00437ba",
   "metadata": {},
   "outputs": [],
   "source": [
    "# Exercise 1: Import Data\n",
    "\n",
    "# Your code here"
   ]
  },
  {
   "cell_type": "markdown",
   "id": "7a9030b2",
   "metadata": {},
   "source": [
    "### Exercise 2: Export Data\n",
    "\n",
    "1. Export the DataFrame to a new file named `exported_data.xlsx` without including the index.\n",
    "\n",
    "```python\n",
    "# Your code here\n",
    "```"
   ]
  },
  {
   "cell_type": "code",
   "execution_count": null,
   "id": "bbd5f273",
   "metadata": {},
   "outputs": [],
   "source": [
    "# Exercise 2: Export Data\n",
    "\n",
    "# Your code here"
   ]
  },
  {
   "cell_type": "markdown",
   "id": "88169af8",
   "metadata": {},
   "source": [
    "### Exercise 3: Modify DataFrame\n",
    "\n",
    "1. Create a new column in the DataFrame named `BMI_Category` that categorizes the `BMI` column as follows:\n",
    "   - `Underweight` if BMI < 18.5\n",
    "   - `Normal weight` if 18.5 <= BMI < 25\n",
    "   - `Overweight` if 25 <= BMI < 30\n",
    "   - `Obese` if BMI >= 30\n",
    "2. Save the modified DataFrame to a file named `modified_data.csv`.\n",
    "\n",
    "```python\n",
    "# Your code here\n",
    "```"
   ]
  },
  {
   "cell_type": "code",
   "execution_count": null,
   "id": "0e10ae65",
   "metadata": {},
   "outputs": [],
   "source": [
    "# Exercise 3: Modify DataFrame\n",
    "\n",
    "# Your code here"
   ]
  },
  {
   "cell_type": "markdown",
   "id": "7338b44d",
   "metadata": {},
   "source": [
    "## Tutorial 2: Viewing and Understanding DataFrames"
   ]
  },
  {
   "cell_type": "markdown",
   "id": "f0a40b6d",
   "metadata": {},
   "source": [
    "### Exercise 1: Summary Statistics\n",
    "\n",
    "1. Load the `exercise_0102.csv` file.\n",
    "2. Generate summary statistics for all numeric columns.\n",
    "3. Calculate summary statistics for the columns with integer data types only.\n",
    "\n",
    "```python\n",
    "# Your code here\n",
    "```"
   ]
  },
  {
   "cell_type": "code",
   "execution_count": null,
   "id": "5a7c95f0",
   "metadata": {},
   "outputs": [],
   "source": [
    "# Exercise 1: Summary Statistics\n",
    "\n",
    "# Your code here"
   ]
  },
  {
   "cell_type": "markdown",
   "id": "4addf987",
   "metadata": {},
   "source": [
    "### Exercise 2: Missing Data\n",
    "\n",
    "1. Introduce missing values in the `Insulin` column for rows 2 to 5.\n",
    "2. Check for missing values in the DataFrame.\n",
    "3. Calculate the total number of missing values in the DataFrame.\n",
    "\n",
    "```python\n",
    "# Your code here\n",
    "```"
   ]
  },
  {
   "cell_type": "code",
   "execution_count": null,
   "id": "aa7cb78d",
   "metadata": {},
   "outputs": [],
   "source": [
    "# Exercise 2: Missing Data\n",
    "\n",
    "# Your code here"
   ]
  },
  {
   "cell_type": "markdown",
   "id": "4ce55c4c",
   "metadata": {},
   "source": [
    "### Exercise 3: Shape and Columns\n",
    "\n",
    "1. Load the DataFrame from `exercise_data.csv`.\n",
    "2. Print the number of rows and columns in the DataFrame.\n",
    "3. Convert the column names to a list.\n",
    "\n",
    "```python\n",
    "# Your code here\n",
    "```"
   ]
  },
  {
   "cell_type": "code",
   "execution_count": null,
   "id": "54968b2f",
   "metadata": {},
   "outputs": [],
   "source": [
    "# Exercise 3: Shape and Columns\n",
    "\n",
    "# Your code here"
   ]
  }
 ],
 "metadata": {
  "language_info": {
   "name": "python"
  }
 },
 "nbformat": 4,
 "nbformat_minor": 5
}
