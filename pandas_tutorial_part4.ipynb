{
 "cells": [
  {
   "cell_type": "markdown",
   "id": "aac06700",
   "metadata": {},
   "source": [
    "# Data Cleaning using pandas\n",
    "\n",
    "In this tutorial, we will explore data cleaning techniques using pandas. This is a crucial step in data preprocessing for data analysis and machine learning."
   ]
  },
  {
   "cell_type": "markdown",
   "id": "9b0b8c69",
   "metadata": {},
   "source": [
    "## Step 1: Checking for Missing Data\n",
    "We will first check if our dataset contains any missing values using the `.isnull().sum()` function."
   ]
  },
  {
   "cell_type": "code",
   "execution_count": 6,
   "id": "f09019e0",
   "metadata": {},
   "outputs": [
    {
     "data": {
      "text/plain": [
       "Pregnancies                 0\n",
       "Glucose                     0\n",
       "BloodPressure               5\n",
       "SkinThickness               0\n",
       "Insulin                     2\n",
       "BMI                         0\n",
       "DiabetesPedigreeFunction    1\n",
       "Age                         0\n",
       "Outcome                     0\n",
       "dtype: int64"
      ]
     },
     "execution_count": 6,
     "metadata": {},
     "output_type": "execute_result"
    }
   ],
   "source": [
    "import pandas as pd\n",
    "df = pd.read_csv(\"diabetes.csv\")\n",
    "df.isnull().sum()"
   ]
  },
  {
   "cell_type": "markdown",
   "id": "91937075",
   "metadata": {},
   "source": [
    "## Step 2: Dropping Missing Values\n",
    "If there are missing values, one common technique is to drop them using `.dropna()`. Below, we drop rows with missing values."
   ]
  },
  {
   "cell_type": "code",
   "execution_count": 8,
   "id": "d83b607e",
   "metadata": {},
   "outputs": [
    {
     "name": "stdout",
     "output_type": "stream",
     "text": [
      "(768, 9)\n",
      "(761, 9)\n"
     ]
    }
   ],
   "source": [
    "df_cleaned = df.copy()\n",
    "df_cleaned = df_cleaned.dropna()\n",
    "print(df.shape)\n",
    "print(df_cleaned.shape)"
   ]
  },
  {
   "cell_type": "markdown",
   "id": "75a80298",
   "metadata": {},
   "source": [
    "## Step 3: Filling Missing Values\n",
    "Instead of dropping missing values, we can also replace them with summary statistics like the mean."
   ]
  },
  {
   "cell_type": "code",
   "execution_count": 15,
   "id": "47ef6717",
   "metadata": {},
   "outputs": [
    {
     "name": "stdout",
     "output_type": "stream",
     "text": [
      "0\n",
      "5\n"
     ]
    }
   ],
   "source": [
    "# Filling missing values in the 'Pregnancies' column with its mean\n",
    "df_filled = df.copy()\n",
    "mean_value = df_filled['BloodPressure'].mean()\n",
    "df_filled.fillna({'BloodPressure': mean_value}, inplace=True)\n",
    "print(df_filled['BloodPressure'].isnull().sum())\n",
    "print(df['BloodPressure'].isnull().sum())"
   ]
  },
  {
   "cell_type": "markdown",
   "id": "25869c89",
   "metadata": {},
   "source": [
    "## Step 4: Dealing with Duplicate Data\n",
    "We can use `.drop_duplicates()` to remove duplicate rows from our DataFrame."
   ]
  },
  {
   "cell_type": "code",
   "execution_count": 16,
   "id": "2b507686",
   "metadata": {},
   "outputs": [
    {
     "data": {
      "text/plain": [
       "(768, 9)"
      ]
     },
     "execution_count": 16,
     "metadata": {},
     "output_type": "execute_result"
    }
   ],
   "source": [
    "df_dedup = df.drop_duplicates()\n",
    "df_dedup.shape"
   ]
  },
  {
   "cell_type": "markdown",
   "id": "83a7bda8",
   "metadata": {},
   "source": [
    "## Step 5: Renaming Columns\n",
    "You can rename specific columns using the `.rename()` method."
   ]
  },
  {
   "cell_type": "code",
   "execution_count": 17,
   "id": "e90ef83a",
   "metadata": {},
   "outputs": [
    {
     "data": {
      "text/html": [
       "<div>\n",
       "<style scoped>\n",
       "    .dataframe tbody tr th:only-of-type {\n",
       "        vertical-align: middle;\n",
       "    }\n",
       "\n",
       "    .dataframe tbody tr th {\n",
       "        vertical-align: top;\n",
       "    }\n",
       "\n",
       "    .dataframe thead th {\n",
       "        text-align: right;\n",
       "    }\n",
       "</style>\n",
       "<table border=\"1\" class=\"dataframe\">\n",
       "  <thead>\n",
       "    <tr style=\"text-align: right;\">\n",
       "      <th></th>\n",
       "      <th>Pregnancies</th>\n",
       "      <th>Glucose</th>\n",
       "      <th>BloodPressure</th>\n",
       "      <th>SkinThickness</th>\n",
       "      <th>Insulin</th>\n",
       "      <th>BMI</th>\n",
       "      <th>DPF</th>\n",
       "      <th>Age</th>\n",
       "      <th>Outcome</th>\n",
       "    </tr>\n",
       "  </thead>\n",
       "  <tbody>\n",
       "    <tr>\n",
       "      <th>0</th>\n",
       "      <td>6</td>\n",
       "      <td>148</td>\n",
       "      <td>NaN</td>\n",
       "      <td>35</td>\n",
       "      <td>NaN</td>\n",
       "      <td>33.6</td>\n",
       "      <td>0.627</td>\n",
       "      <td>50</td>\n",
       "      <td>1</td>\n",
       "    </tr>\n",
       "    <tr>\n",
       "      <th>1</th>\n",
       "      <td>1</td>\n",
       "      <td>85</td>\n",
       "      <td>NaN</td>\n",
       "      <td>29</td>\n",
       "      <td>0.0</td>\n",
       "      <td>26.6</td>\n",
       "      <td>0.351</td>\n",
       "      <td>31</td>\n",
       "      <td>0</td>\n",
       "    </tr>\n",
       "    <tr>\n",
       "      <th>2</th>\n",
       "      <td>8</td>\n",
       "      <td>183</td>\n",
       "      <td>64.0</td>\n",
       "      <td>0</td>\n",
       "      <td>0.0</td>\n",
       "      <td>23.3</td>\n",
       "      <td>0.672</td>\n",
       "      <td>32</td>\n",
       "      <td>1</td>\n",
       "    </tr>\n",
       "    <tr>\n",
       "      <th>3</th>\n",
       "      <td>1</td>\n",
       "      <td>89</td>\n",
       "      <td>66.0</td>\n",
       "      <td>23</td>\n",
       "      <td>94.0</td>\n",
       "      <td>28.1</td>\n",
       "      <td>0.167</td>\n",
       "      <td>21</td>\n",
       "      <td>0</td>\n",
       "    </tr>\n",
       "    <tr>\n",
       "      <th>4</th>\n",
       "      <td>0</td>\n",
       "      <td>137</td>\n",
       "      <td>40.0</td>\n",
       "      <td>35</td>\n",
       "      <td>168.0</td>\n",
       "      <td>43.1</td>\n",
       "      <td>2.288</td>\n",
       "      <td>33</td>\n",
       "      <td>1</td>\n",
       "    </tr>\n",
       "  </tbody>\n",
       "</table>\n",
       "</div>"
      ],
      "text/plain": [
       "   Pregnancies  Glucose  BloodPressure  SkinThickness  Insulin   BMI    DPF  \\\n",
       "0            6      148            NaN             35      NaN  33.6  0.627   \n",
       "1            1       85            NaN             29      0.0  26.6  0.351   \n",
       "2            8      183           64.0              0      0.0  23.3  0.672   \n",
       "3            1       89           66.0             23     94.0  28.1  0.167   \n",
       "4            0      137           40.0             35    168.0  43.1  2.288   \n",
       "\n",
       "   Age  Outcome  \n",
       "0   50        1  \n",
       "1   31        0  \n",
       "2   32        1  \n",
       "3   21        0  \n",
       "4   33        1  "
      ]
     },
     "execution_count": 17,
     "metadata": {},
     "output_type": "execute_result"
    }
   ],
   "source": [
    "df_renamed = df.rename(columns={'DiabetesPedigreeFunction': 'DPF'})\n",
    "df_renamed.head()"
   ]
  },
  {
   "cell_type": "markdown",
   "id": "61a8e4b7",
   "metadata": {},
   "source": [
    "## Step 6: Summary Statistics\n",
    "We can compute summary statistics such as mean, median, and mode using pandas."
   ]
  },
  {
   "cell_type": "code",
   "execution_count": 18,
   "id": "a2fe384e",
   "metadata": {},
   "outputs": [
    {
     "data": {
      "text/plain": [
       "(Pregnancies                   3.845052\n",
       " Glucose                     120.894531\n",
       " BloodPressure                69.073394\n",
       " SkinThickness                20.536458\n",
       " Insulin                      79.892950\n",
       " BMI                          31.992578\n",
       " DiabetesPedigreeFunction      0.471904\n",
       " Age                          33.240885\n",
       " Outcome                       0.348958\n",
       " dtype: float64,\n",
       " Pregnancies                   3.000\n",
       " Glucose                     117.000\n",
       " BloodPressure                72.000\n",
       " SkinThickness                23.000\n",
       " Insulin                      30.500\n",
       " BMI                          32.000\n",
       " DiabetesPedigreeFunction      0.371\n",
       " Age                          29.000\n",
       " Outcome                       0.000\n",
       " dtype: float64,\n",
       "    Pregnancies  Glucose  BloodPressure  SkinThickness  Insulin   BMI  \\\n",
       " 0          1.0       99           70.0            0.0      0.0  32.0   \n",
       " 1          NaN      100            NaN            NaN      NaN   NaN   \n",
       " \n",
       "    DiabetesPedigreeFunction   Age  Outcome  \n",
       " 0                     0.254  22.0      0.0  \n",
       " 1                     0.258   NaN      NaN  )"
      ]
     },
     "execution_count": 18,
     "metadata": {},
     "output_type": "execute_result"
    }
   ],
   "source": [
    "df.mean(), df.median(), df.mode()"
   ]
  },
  {
   "cell_type": "markdown",
   "id": "eab43143",
   "metadata": {},
   "source": [
    "## Step 7: Creating New Columns\n",
    "New columns can be derived from existing ones, for example, calculating the ratio of glucose to insulin."
   ]
  },
  {
   "cell_type": "code",
   "execution_count": 19,
   "id": "b997fbf7",
   "metadata": {},
   "outputs": [
    {
     "data": {
      "text/html": [
       "<div>\n",
       "<style scoped>\n",
       "    .dataframe tbody tr th:only-of-type {\n",
       "        vertical-align: middle;\n",
       "    }\n",
       "\n",
       "    .dataframe tbody tr th {\n",
       "        vertical-align: top;\n",
       "    }\n",
       "\n",
       "    .dataframe thead th {\n",
       "        text-align: right;\n",
       "    }\n",
       "</style>\n",
       "<table border=\"1\" class=\"dataframe\">\n",
       "  <thead>\n",
       "    <tr style=\"text-align: right;\">\n",
       "      <th></th>\n",
       "      <th>Pregnancies</th>\n",
       "      <th>Glucose</th>\n",
       "      <th>BloodPressure</th>\n",
       "      <th>SkinThickness</th>\n",
       "      <th>Insulin</th>\n",
       "      <th>BMI</th>\n",
       "      <th>DiabetesPedigreeFunction</th>\n",
       "      <th>Age</th>\n",
       "      <th>Outcome</th>\n",
       "      <th>Glucose_Insulin_Ratio</th>\n",
       "    </tr>\n",
       "  </thead>\n",
       "  <tbody>\n",
       "    <tr>\n",
       "      <th>0</th>\n",
       "      <td>6</td>\n",
       "      <td>148</td>\n",
       "      <td>NaN</td>\n",
       "      <td>35</td>\n",
       "      <td>NaN</td>\n",
       "      <td>33.6</td>\n",
       "      <td>0.627</td>\n",
       "      <td>50</td>\n",
       "      <td>1</td>\n",
       "      <td>NaN</td>\n",
       "    </tr>\n",
       "    <tr>\n",
       "      <th>1</th>\n",
       "      <td>1</td>\n",
       "      <td>85</td>\n",
       "      <td>NaN</td>\n",
       "      <td>29</td>\n",
       "      <td>0.0</td>\n",
       "      <td>26.6</td>\n",
       "      <td>0.351</td>\n",
       "      <td>31</td>\n",
       "      <td>0</td>\n",
       "      <td>inf</td>\n",
       "    </tr>\n",
       "    <tr>\n",
       "      <th>2</th>\n",
       "      <td>8</td>\n",
       "      <td>183</td>\n",
       "      <td>64.0</td>\n",
       "      <td>0</td>\n",
       "      <td>0.0</td>\n",
       "      <td>23.3</td>\n",
       "      <td>0.672</td>\n",
       "      <td>32</td>\n",
       "      <td>1</td>\n",
       "      <td>inf</td>\n",
       "    </tr>\n",
       "    <tr>\n",
       "      <th>3</th>\n",
       "      <td>1</td>\n",
       "      <td>89</td>\n",
       "      <td>66.0</td>\n",
       "      <td>23</td>\n",
       "      <td>94.0</td>\n",
       "      <td>28.1</td>\n",
       "      <td>0.167</td>\n",
       "      <td>21</td>\n",
       "      <td>0</td>\n",
       "      <td>0.946809</td>\n",
       "    </tr>\n",
       "    <tr>\n",
       "      <th>4</th>\n",
       "      <td>0</td>\n",
       "      <td>137</td>\n",
       "      <td>40.0</td>\n",
       "      <td>35</td>\n",
       "      <td>168.0</td>\n",
       "      <td>43.1</td>\n",
       "      <td>2.288</td>\n",
       "      <td>33</td>\n",
       "      <td>1</td>\n",
       "      <td>0.815476</td>\n",
       "    </tr>\n",
       "  </tbody>\n",
       "</table>\n",
       "</div>"
      ],
      "text/plain": [
       "   Pregnancies  Glucose  BloodPressure  SkinThickness  Insulin   BMI  \\\n",
       "0            6      148            NaN             35      NaN  33.6   \n",
       "1            1       85            NaN             29      0.0  26.6   \n",
       "2            8      183           64.0              0      0.0  23.3   \n",
       "3            1       89           66.0             23     94.0  28.1   \n",
       "4            0      137           40.0             35    168.0  43.1   \n",
       "\n",
       "   DiabetesPedigreeFunction  Age  Outcome  Glucose_Insulin_Ratio  \n",
       "0                     0.627   50        1                    NaN  \n",
       "1                     0.351   31        0                    inf  \n",
       "2                     0.672   32        1                    inf  \n",
       "3                     0.167   21        0               0.946809  \n",
       "4                     2.288   33        1               0.815476  "
      ]
     },
     "execution_count": 19,
     "metadata": {},
     "output_type": "execute_result"
    }
   ],
   "source": [
    "df['Glucose_Insulin_Ratio'] = df['Glucose'] / df['Insulin']\n",
    "df.head()"
   ]
  },
  {
   "cell_type": "markdown",
   "id": "ad37df62",
   "metadata": {},
   "source": [
    "## Step 8: Counting Categories\n",
    "We can use `.value_counts()` to count the number of occurrences of categorical values."
   ]
  },
  {
   "cell_type": "code",
   "execution_count": 20,
   "id": "6f03aa43",
   "metadata": {},
   "outputs": [
    {
     "data": {
      "text/plain": [
       "Outcome\n",
       "0    500\n",
       "1    268\n",
       "Name: count, dtype: int64"
      ]
     },
     "execution_count": 20,
     "metadata": {},
     "output_type": "execute_result"
    }
   ],
   "source": [
    "df['Outcome'].value_counts()"
   ]
  },
  {
   "cell_type": "markdown",
   "id": "35a73eb7",
   "metadata": {},
   "source": [
    "## Step 9: Aggregating Data using groupby\n",
    "Finally, we can use `.groupby()` to aggregate data and compute summary statistics by groups."
   ]
  },
  {
   "cell_type": "code",
   "execution_count": 21,
   "id": "e38d0bfb",
   "metadata": {},
   "outputs": [
    {
     "data": {
      "text/html": [
       "<div>\n",
       "<style scoped>\n",
       "    .dataframe tbody tr th:only-of-type {\n",
       "        vertical-align: middle;\n",
       "    }\n",
       "\n",
       "    .dataframe tbody tr th {\n",
       "        vertical-align: top;\n",
       "    }\n",
       "\n",
       "    .dataframe thead th {\n",
       "        text-align: right;\n",
       "    }\n",
       "</style>\n",
       "<table border=\"1\" class=\"dataframe\">\n",
       "  <thead>\n",
       "    <tr style=\"text-align: right;\">\n",
       "      <th></th>\n",
       "      <th>Pregnancies</th>\n",
       "      <th>Glucose</th>\n",
       "      <th>BloodPressure</th>\n",
       "      <th>SkinThickness</th>\n",
       "      <th>Insulin</th>\n",
       "      <th>BMI</th>\n",
       "      <th>DiabetesPedigreeFunction</th>\n",
       "      <th>Age</th>\n",
       "      <th>Glucose_Insulin_Ratio</th>\n",
       "    </tr>\n",
       "    <tr>\n",
       "      <th>Outcome</th>\n",
       "      <th></th>\n",
       "      <th></th>\n",
       "      <th></th>\n",
       "      <th></th>\n",
       "      <th></th>\n",
       "      <th></th>\n",
       "      <th></th>\n",
       "      <th></th>\n",
       "      <th></th>\n",
       "    </tr>\n",
       "  </thead>\n",
       "  <tbody>\n",
       "    <tr>\n",
       "      <th>0</th>\n",
       "      <td>3.298000</td>\n",
       "      <td>109.980000</td>\n",
       "      <td>68.148594</td>\n",
       "      <td>19.664000</td>\n",
       "      <td>68.792000</td>\n",
       "      <td>30.304200</td>\n",
       "      <td>0.429734</td>\n",
       "      <td>31.190000</td>\n",
       "      <td>inf</td>\n",
       "    </tr>\n",
       "    <tr>\n",
       "      <th>1</th>\n",
       "      <td>4.865672</td>\n",
       "      <td>141.257463</td>\n",
       "      <td>70.811321</td>\n",
       "      <td>22.164179</td>\n",
       "      <td>100.759398</td>\n",
       "      <td>35.142537</td>\n",
       "      <td>0.550873</td>\n",
       "      <td>37.067164</td>\n",
       "      <td>inf</td>\n",
       "    </tr>\n",
       "  </tbody>\n",
       "</table>\n",
       "</div>"
      ],
      "text/plain": [
       "         Pregnancies     Glucose  BloodPressure  SkinThickness     Insulin  \\\n",
       "Outcome                                                                      \n",
       "0           3.298000  109.980000      68.148594      19.664000   68.792000   \n",
       "1           4.865672  141.257463      70.811321      22.164179  100.759398   \n",
       "\n",
       "               BMI  DiabetesPedigreeFunction        Age  Glucose_Insulin_Ratio  \n",
       "Outcome                                                                         \n",
       "0        30.304200                  0.429734  31.190000                    inf  \n",
       "1        35.142537                  0.550873  37.067164                    inf  "
      ]
     },
     "execution_count": 21,
     "metadata": {},
     "output_type": "execute_result"
    }
   ],
   "source": [
    "df.groupby('Outcome').mean()"
   ]
  }
 ],
 "metadata": {
  "kernelspec": {
   "display_name": "Python 3",
   "language": "python",
   "name": "python3"
  },
  "language_info": {
   "codemirror_mode": {
    "name": "ipython",
    "version": 3
   },
   "file_extension": ".py",
   "mimetype": "text/x-python",
   "name": "python",
   "nbconvert_exporter": "python",
   "pygments_lexer": "ipython3",
   "version": "3.12.4"
  }
 },
 "nbformat": 4,
 "nbformat_minor": 5
}
