{
 "cells": [
  {
   "cell_type": "markdown",
   "id": "8abc4f6d",
   "metadata": {},
   "source": [
    "# Solutions: Working with Product Data in Pandas"
   ]
  },
  {
   "cell_type": "markdown",
   "id": "02687e43",
   "metadata": {},
   "source": [
    "## Solution 1: Isolating Columns"
   ]
  },
  {
   "cell_type": "code",
   "execution_count": 1,
   "id": "584afee5",
   "metadata": {},
   "outputs": [
    {
     "data": {
      "text/plain": [
       "0    Product_1\n",
       "1    Product_2\n",
       "2    Product_3\n",
       "3    Product_4\n",
       "4    Product_5\n",
       "Name: ProductName, dtype: object"
      ]
     },
     "execution_count": 1,
     "metadata": {},
     "output_type": "execute_result"
    }
   ],
   "source": [
    "# Solution: Isolate the 'ProductName' column from the DataFrame and display the first 5 entries.\n",
    "import pandas as pd\n",
    "df = pd.read_csv('product_data.csv')\n",
    "df['ProductName'].head()"
   ]
  },
  {
   "cell_type": "markdown",
   "id": "7c54a331",
   "metadata": {},
   "source": [
    "## Solution 2: Filtering Data"
   ]
  },
  {
   "cell_type": "code",
   "execution_count": 7,
   "id": "a0932c02",
   "metadata": {},
   "outputs": [
    {
     "data": {
      "text/html": [
       "<div>\n",
       "<style scoped>\n",
       "    .dataframe tbody tr th:only-of-type {\n",
       "        vertical-align: middle;\n",
       "    }\n",
       "\n",
       "    .dataframe tbody tr th {\n",
       "        vertical-align: top;\n",
       "    }\n",
       "\n",
       "    .dataframe thead th {\n",
       "        text-align: right;\n",
       "    }\n",
       "</style>\n",
       "<table border=\"1\" class=\"dataframe\">\n",
       "  <thead>\n",
       "    <tr style=\"text-align: right;\">\n",
       "      <th></th>\n",
       "      <th>ProductID</th>\n",
       "      <th>ProductName</th>\n",
       "      <th>Category</th>\n",
       "      <th>Price</th>\n",
       "      <th>Stock</th>\n",
       "    </tr>\n",
       "  </thead>\n",
       "  <tbody>\n",
       "    <tr>\n",
       "      <th>18</th>\n",
       "      <td>19</td>\n",
       "      <td>Product_19</td>\n",
       "      <td>Electronics</td>\n",
       "      <td>59.89</td>\n",
       "      <td>69</td>\n",
       "    </tr>\n",
       "    <tr>\n",
       "      <th>23</th>\n",
       "      <td>24</td>\n",
       "      <td>Product_24</td>\n",
       "      <td>Electronics</td>\n",
       "      <td>283.82</td>\n",
       "      <td>19</td>\n",
       "    </tr>\n",
       "    <tr>\n",
       "      <th>24</th>\n",
       "      <td>25</td>\n",
       "      <td>Product_25</td>\n",
       "      <td>Electronics</td>\n",
       "      <td>349.28</td>\n",
       "      <td>48</td>\n",
       "    </tr>\n",
       "    <tr>\n",
       "      <th>33</th>\n",
       "      <td>34</td>\n",
       "      <td>Product_34</td>\n",
       "      <td>Electronics</td>\n",
       "      <td>314.06</td>\n",
       "      <td>72</td>\n",
       "    </tr>\n",
       "    <tr>\n",
       "      <th>38</th>\n",
       "      <td>39</td>\n",
       "      <td>Product_39</td>\n",
       "      <td>Electronics</td>\n",
       "      <td>211.17</td>\n",
       "      <td>89</td>\n",
       "    </tr>\n",
       "  </tbody>\n",
       "</table>\n",
       "</div>"
      ],
      "text/plain": [
       "    ProductID ProductName     Category   Price  Stock\n",
       "18         19  Product_19  Electronics   59.89     69\n",
       "23         24  Product_24  Electronics  283.82     19\n",
       "24         25  Product_25  Electronics  349.28     48\n",
       "33         34  Product_34  Electronics  314.06     72\n",
       "38         39  Product_39  Electronics  211.17     89"
      ]
     },
     "execution_count": 7,
     "metadata": {},
     "output_type": "execute_result"
    }
   ],
   "source": [
    "# Solution: Filter the DataFrame to show only products in the 'Electronics' category with a price greater than $20.\n",
    "df_electronics = df[(df['Category'] == 'Electronics') & (df['Price'] > 20)]\n",
    "df_electronics.head()"
   ]
  },
  {
   "cell_type": "code",
   "execution_count": 10,
   "id": "32a37732",
   "metadata": {},
   "outputs": [
    {
     "data": {
      "text/html": [
       "<div>\n",
       "<style scoped>\n",
       "    .dataframe tbody tr th:only-of-type {\n",
       "        vertical-align: middle;\n",
       "    }\n",
       "\n",
       "    .dataframe tbody tr th {\n",
       "        vertical-align: top;\n",
       "    }\n",
       "\n",
       "    .dataframe thead th {\n",
       "        text-align: right;\n",
       "    }\n",
       "</style>\n",
       "<table border=\"1\" class=\"dataframe\">\n",
       "  <thead>\n",
       "    <tr style=\"text-align: right;\">\n",
       "      <th></th>\n",
       "      <th>ProductID</th>\n",
       "      <th>ProductName</th>\n",
       "      <th>Category</th>\n",
       "      <th>Price</th>\n",
       "      <th>Stock</th>\n",
       "    </tr>\n",
       "  </thead>\n",
       "  <tbody>\n",
       "    <tr>\n",
       "      <th>18</th>\n",
       "      <td>19</td>\n",
       "      <td>Product_19</td>\n",
       "      <td>Electronics</td>\n",
       "      <td>59.89</td>\n",
       "      <td>69</td>\n",
       "    </tr>\n",
       "    <tr>\n",
       "      <th>23</th>\n",
       "      <td>24</td>\n",
       "      <td>Product_24</td>\n",
       "      <td>Electronics</td>\n",
       "      <td>283.82</td>\n",
       "      <td>19</td>\n",
       "    </tr>\n",
       "    <tr>\n",
       "      <th>24</th>\n",
       "      <td>25</td>\n",
       "      <td>Product_25</td>\n",
       "      <td>Electronics</td>\n",
       "      <td>349.28</td>\n",
       "      <td>48</td>\n",
       "    </tr>\n",
       "    <tr>\n",
       "      <th>33</th>\n",
       "      <td>34</td>\n",
       "      <td>Product_34</td>\n",
       "      <td>Electronics</td>\n",
       "      <td>314.06</td>\n",
       "      <td>72</td>\n",
       "    </tr>\n",
       "    <tr>\n",
       "      <th>38</th>\n",
       "      <td>39</td>\n",
       "      <td>Product_39</td>\n",
       "      <td>Electronics</td>\n",
       "      <td>211.17</td>\n",
       "      <td>89</td>\n",
       "    </tr>\n",
       "  </tbody>\n",
       "</table>\n",
       "</div>"
      ],
      "text/plain": [
       "    ProductID ProductName     Category   Price  Stock\n",
       "18         19  Product_19  Electronics   59.89     69\n",
       "23         24  Product_24  Electronics  283.82     19\n",
       "24         25  Product_25  Electronics  349.28     48\n",
       "33         34  Product_34  Electronics  314.06     72\n",
       "38         39  Product_39  Electronics  211.17     89"
      ]
     },
     "execution_count": 10,
     "metadata": {},
     "output_type": "execute_result"
    }
   ],
   "source": [
    "df_electronics = df[df['Category'] == 'Electronics']\n",
    "df_electronics = df_electronics[df_electronics['Price'] > 20]\n",
    "df_electronics.head()"
   ]
  },
  {
   "cell_type": "markdown",
   "id": "4d334cbd",
   "metadata": {},
   "source": [
    "## Solution 3: Calculating Summary Statistics"
   ]
  },
  {
   "cell_type": "code",
   "execution_count": 11,
   "id": "aba903a3",
   "metadata": {},
   "outputs": [
    {
     "data": {
      "text/plain": [
       "255.38250000000002"
      ]
     },
     "execution_count": 11,
     "metadata": {},
     "output_type": "execute_result"
    }
   ],
   "source": [
    "# Solution: Calculate the mean price of products in the 'Hardware' category.\n",
    "mean_hardware_price = df[df['Category'] == 'Hardware']['Price'].mean()\n",
    "mean_hardware_price"
   ]
  },
  {
   "cell_type": "code",
   "execution_count": 15,
   "id": "52f5263c",
   "metadata": {},
   "outputs": [
    {
     "data": {
      "text/plain": [
       "255.38250000000002"
      ]
     },
     "execution_count": 15,
     "metadata": {},
     "output_type": "execute_result"
    }
   ],
   "source": [
    "hardware_product = df[df['Category'] == 'Hardware']\n",
    "mean_hardware = hardware_product['Price'].mean()\n",
    "mean_hardware"
   ]
  },
  {
   "cell_type": "markdown",
   "id": "391b06d3",
   "metadata": {},
   "source": [
    "## Solution 4: Grouping Data"
   ]
  },
  {
   "cell_type": "code",
   "execution_count": 13,
   "id": "c4f2352f",
   "metadata": {},
   "outputs": [
    {
     "data": {
      "text/plain": [
       "Category\n",
       "Books          1072\n",
       "Clothing        867\n",
       "Electronics     998\n",
       "Hardware        687\n",
       "Home           1158\n",
       "Name: Stock, dtype: int64"
      ]
     },
     "execution_count": 13,
     "metadata": {},
     "output_type": "execute_result"
    }
   ],
   "source": [
    "# Solution: Group the DataFrame by 'Category' and calculate the total stock quantity for each category.\n",
    "category_stock = df.groupby('Category')['Stock'].sum()\n",
    "category_stock"
   ]
  },
  {
   "cell_type": "code",
   "execution_count": 16,
   "id": "1686fe23",
   "metadata": {},
   "outputs": [
    {
     "data": {
      "text/plain": [
       "687"
      ]
     },
     "execution_count": 16,
     "metadata": {},
     "output_type": "execute_result"
    }
   ],
   "source": [
    "quantity_hardware = hardware_product['Stock'].sum()\n",
    "quantity_hardware"
   ]
  },
  {
   "cell_type": "markdown",
   "id": "a9ec9cb3",
   "metadata": {},
   "source": [
    "## Solution 5: Sorting Data"
   ]
  },
  {
   "cell_type": "code",
   "execution_count": 14,
   "id": "2ed65e19",
   "metadata": {},
   "outputs": [
    {
     "data": {
      "text/html": [
       "<div>\n",
       "<style scoped>\n",
       "    .dataframe tbody tr th:only-of-type {\n",
       "        vertical-align: middle;\n",
       "    }\n",
       "\n",
       "    .dataframe tbody tr th {\n",
       "        vertical-align: top;\n",
       "    }\n",
       "\n",
       "    .dataframe thead th {\n",
       "        text-align: right;\n",
       "    }\n",
       "</style>\n",
       "<table border=\"1\" class=\"dataframe\">\n",
       "  <thead>\n",
       "    <tr style=\"text-align: right;\">\n",
       "      <th></th>\n",
       "      <th>ProductID</th>\n",
       "      <th>ProductName</th>\n",
       "      <th>Category</th>\n",
       "      <th>Price</th>\n",
       "      <th>Stock</th>\n",
       "    </tr>\n",
       "  </thead>\n",
       "  <tbody>\n",
       "    <tr>\n",
       "      <th>65</th>\n",
       "      <td>66</td>\n",
       "      <td>Product_66</td>\n",
       "      <td>Books</td>\n",
       "      <td>498.88</td>\n",
       "      <td>86</td>\n",
       "    </tr>\n",
       "    <tr>\n",
       "      <th>82</th>\n",
       "      <td>83</td>\n",
       "      <td>Product_83</td>\n",
       "      <td>Home</td>\n",
       "      <td>491.79</td>\n",
       "      <td>61</td>\n",
       "    </tr>\n",
       "    <tr>\n",
       "      <th>67</th>\n",
       "      <td>68</td>\n",
       "      <td>Product_68</td>\n",
       "      <td>Clothing</td>\n",
       "      <td>488.42</td>\n",
       "      <td>30</td>\n",
       "    </tr>\n",
       "    <tr>\n",
       "      <th>11</th>\n",
       "      <td>12</td>\n",
       "      <td>Product_12</td>\n",
       "      <td>Hardware</td>\n",
       "      <td>486.00</td>\n",
       "      <td>16</td>\n",
       "    </tr>\n",
       "    <tr>\n",
       "      <th>29</th>\n",
       "      <td>30</td>\n",
       "      <td>Product_30</td>\n",
       "      <td>Books</td>\n",
       "      <td>471.71</td>\n",
       "      <td>54</td>\n",
       "    </tr>\n",
       "  </tbody>\n",
       "</table>\n",
       "</div>"
      ],
      "text/plain": [
       "    ProductID ProductName  Category   Price  Stock\n",
       "65         66  Product_66     Books  498.88     86\n",
       "82         83  Product_83      Home  491.79     61\n",
       "67         68  Product_68  Clothing  488.42     30\n",
       "11         12  Product_12  Hardware  486.00     16\n",
       "29         30  Product_30     Books  471.71     54"
      ]
     },
     "execution_count": 14,
     "metadata": {},
     "output_type": "execute_result"
    }
   ],
   "source": [
    "# Solution: Sort the DataFrame by 'Price' in descending order and display the top 5 most expensive products.\n",
    "top_expensive_products = df.sort_values(by='Price', ascending=False).head(5)\n",
    "top_expensive_products"
   ]
  }
 ],
 "metadata": {
  "kernelspec": {
   "display_name": "Python 3",
   "language": "python",
   "name": "python3"
  },
  "language_info": {
   "codemirror_mode": {
    "name": "ipython",
    "version": 3
   },
   "file_extension": ".py",
   "mimetype": "text/x-python",
   "name": "python",
   "nbconvert_exporter": "python",
   "pygments_lexer": "ipython3",
   "version": "3.12.4"
  }
 },
 "nbformat": 4,
 "nbformat_minor": 5
}
