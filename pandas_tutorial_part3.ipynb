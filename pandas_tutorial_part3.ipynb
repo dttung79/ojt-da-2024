{
 "cells": [
  {
   "cell_type": "markdown",
   "id": "5e85308d",
   "metadata": {},
   "source": [
    "# Tutorial 3: Slicing and Extracting Data in Pandas\n",
    "\n",
    "In this tutorial, we'll explore different ways to subset, filter, and isolate data in your DataFrames using Pandas."
   ]
  },
  {
   "cell_type": "markdown",
   "id": "33bda78e",
   "metadata": {},
   "source": [
    "## Isolating One Column Using `[]`\n",
    "\n",
    "You can isolate a single column by using square brackets `[]` with the column name. The output is a Pandas `Series` object.\n",
    "\n",
    "```python\n",
    "df['Outcome']\n",
    "```\n",
    "This isolates the 'Outcome' column from the DataFrame."
   ]
  },
  {
   "cell_type": "code",
   "execution_count": null,
   "id": "75fe884b",
   "metadata": {},
   "outputs": [],
   "source": [
    "import pandas as pd\n",
    "df = pd.read_csv(\"diabetes.csv\")\n",
    "df['Outcome']\n",
    "# Isolating one column in Pandas"
   ]
  },
  {
   "cell_type": "markdown",
   "id": "784c6bbf",
   "metadata": {},
   "source": [
    "## Isolating Two or More Columns Using `[[]]`\n",
    "\n",
    "You can provide a list of column names inside the square brackets to fetch more than one column.\n",
    "\n",
    "```python\n",
    "df[['Pregnancies', 'Outcome']]\n",
    "```\n",
    "This isolates the 'Pregnancies' and 'Outcome' columns."
   ]
  },
  {
   "cell_type": "code",
   "execution_count": null,
   "id": "06faf79a",
   "metadata": {},
   "outputs": [],
   "source": [
    "df[['Pregnancies', 'Outcome']]\n",
    "# Isolating two columns in Pandas"
   ]
  },
  {
   "cell_type": "markdown",
   "id": "38d95507",
   "metadata": {},
   "source": [
    "## Isolating One Row Using `[]`\n",
    "\n",
    "A single row can be fetched by passing in a boolean series with one `True` value.\n",
    "\n",
    "```python\n",
    "df[df.index == 1]\n",
    "```\n",
    "This isolates the row with index 1."
   ]
  },
  {
   "cell_type": "code",
   "execution_count": null,
   "id": "aa7e3518",
   "metadata": {},
   "outputs": [],
   "source": [
    "df[df.index == 1]\n",
    "# Isolating one row in Pandas"
   ]
  },
  {
   "cell_type": "markdown",
   "id": "73807c8a",
   "metadata": {},
   "source": [
    "## Isolating Two or More Rows Using `[]`\n",
    "\n",
    "You can return two or more rows using the `.isin()` method.\n",
    "\n",
    "```python\n",
    "df[df.index.isin(range(2, 10))]\n",
    "```\n",
    "This isolates rows from index 2 to 9."
   ]
  },
  {
   "cell_type": "code",
   "execution_count": null,
   "id": "a73fc142",
   "metadata": {},
   "outputs": [],
   "source": [
    "df[df.index.isin(range(2, 10))]\n",
    "# Isolating specific rows in Pandas"
   ]
  },
  {
   "cell_type": "markdown",
   "id": "54e9511e",
   "metadata": {},
   "source": [
    "## Using `.loc[]` and `.iloc[]` to Fetch Rows\n",
    "\n",
    "You can fetch specific rows by labels or conditions using `.loc[]` and `.iloc[]` (\"location\" and \"integer location\").\n",
    "\n",
    "```python\n",
    "df.loc[1]\n",
    "```\n",
    "This fetches the row with label 1.\n",
    "\n",
    "```python\n",
    "df.iloc[1]\n",
    "```\n",
    "This fetches the second row (index 1)."
   ]
  },
  {
   "cell_type": "code",
   "execution_count": null,
   "id": "0a2b215a",
   "metadata": {},
   "outputs": [],
   "source": [
    "df.loc[1]\n",
    "# Fetching a row by label with .loc[]"
   ]
  },
  {
   "cell_type": "code",
   "execution_count": null,
   "id": "d2991924",
   "metadata": {},
   "outputs": [],
   "source": [
    "df.iloc[1]\n",
    "# Fetching a row by position with .iloc[]"
   ]
  },
  {
   "cell_type": "markdown",
   "id": "79af11bb",
   "metadata": {},
   "source": [
    "## Fetching Multiple Rows with `.loc[]` and `.iloc[]`\n",
    "\n",
    "You can also fetch multiple rows by providing a range.\n",
    "\n",
    "```python\n",
    "df.loc[100:110]\n",
    "```\n",
    "This fetches rows from index 100 to 110.\n",
    "\n",
    "```python\n",
    "df.iloc[100:110]\n",
    "```\n",
    "This fetches the rows from position 100 to 109."
   ]
  },
  {
   "cell_type": "code",
   "execution_count": null,
   "id": "797034cf",
   "metadata": {},
   "outputs": [],
   "source": [
    "df.loc[100:110]\n",
    "# Fetching multiple rows with .loc[]"
   ]
  },
  {
   "cell_type": "code",
   "execution_count": null,
   "id": "09caace6",
   "metadata": {},
   "outputs": [],
   "source": [
    "df.iloc[100:110]\n",
    "# Fetching multiple rows with .iloc[]"
   ]
  },
  {
   "cell_type": "markdown",
   "id": "1123f352",
   "metadata": {},
   "source": [
    "## Selecting Specific Columns Along with Rows\n",
    "\n",
    "You can select specific columns along with rows using `.loc[]` and `.iloc[]`.\n",
    "\n",
    "```python\n",
    "df.loc[100:110, ['Pregnancies', 'Glucose', 'BloodPressure']]\n",
    "```\n",
    "This fetches rows from index 100 to 110 for the specified columns.\n",
    "\n",
    "```python\n",
    "df.iloc[100:110, :3]\n",
    "```\n",
    "This fetches rows from position 100 to 109 and the first three columns."
   ]
  },
  {
   "cell_type": "code",
   "execution_count": null,
   "id": "f6cc14ad",
   "metadata": {},
   "outputs": [],
   "source": [
    "df.loc[100:110, ['Pregnancies', 'Glucose', 'BloodPressure']]\n",
    "# Fetching specific columns with .loc[]"
   ]
  },
  {
   "cell_type": "code",
   "execution_count": null,
   "id": "28defb99",
   "metadata": {},
   "outputs": [],
   "source": [
    "df.iloc[100:110, :3]\n",
    "# Fetching specific columns with .iloc[]"
   ]
  },
  {
   "cell_type": "markdown",
   "id": "40827226",
   "metadata": {},
   "source": [
    "## Conditional Slicing\n",
    "\n",
    "Pandas lets you filter data by conditions over row/column values.\n",
    "\n",
    "```python\n",
    "df[df.BloodPressure == 122]\n",
    "```\n",
    "This selects rows where `BloodPressure` is exactly 122.\n",
    "\n",
    "```python\n",
    "df.loc[df['BloodPressure'] > 100, ['Pregnancies', 'Glucose', 'BloodPressure']]\n",
    "```\n",
    "This fetches `Pregnancies`, `Glucose`, and `BloodPressure` for all records with `BloodPressure` greater than 100."
   ]
  },
  {
   "cell_type": "code",
   "execution_count": null,
   "id": "abf54569",
   "metadata": {},
   "outputs": [],
   "source": [
    "df[df.BloodPressure == 122]\n",
    "# Isolating rows based on a condition in Pandas"
   ]
  },
  {
   "cell_type": "code",
   "execution_count": null,
   "id": "8303a7de",
   "metadata": {},
   "outputs": [],
   "source": [
    "df.loc[df['BloodPressure'] > 100, ['Pregnancies', 'Glucose', 'BloodPressure']]\n",
    "# Isolating rows and columns based on a condition in Pandas"
   ]
  }
 ],
 "metadata": {
  "kernelspec": {
   "display_name": "Python 3",
   "language": "python",
   "name": "python3"
  },
  "language_info": {
   "codemirror_mode": {
    "name": "ipython",
    "version": 3
   },
   "file_extension": ".py",
   "mimetype": "text/x-python",
   "name": "python",
   "nbconvert_exporter": "python",
   "pygments_lexer": "ipython3",
   "version": "3.12.4"
  }
 },
 "nbformat": 4,
 "nbformat_minor": 5
}
