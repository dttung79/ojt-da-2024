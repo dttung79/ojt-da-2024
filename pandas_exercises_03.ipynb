{
 "cells": [
  {
   "cell_type": "markdown",
   "id": "c3155397",
   "metadata": {},
   "source": [
    "# Exercise: Working with Product Data in Pandas"
   ]
  },
  {
   "cell_type": "markdown",
   "id": "d18d2b59",
   "metadata": {},
   "source": [
    "## Exercise 1: Isolating Columns"
   ]
  },
  {
   "cell_type": "code",
   "execution_count": null,
   "id": "7de67e2d",
   "metadata": {},
   "outputs": [],
   "source": [
    "import pandas as pd\n",
    "df = pd.read_csv('product_data.csv')\n",
    "# Instructions: Isolate the 'ProductName' column from the DataFrame and display the first 5 entries.\n",
    "# Hint: Use the square brackets `[]` to select the column."
   ]
  },
  {
   "cell_type": "markdown",
   "id": "b5ee9ded",
   "metadata": {},
   "source": [
    "## Exercise 2: Filtering Data"
   ]
  },
  {
   "cell_type": "code",
   "execution_count": null,
   "id": "b5b1ceaf",
   "metadata": {},
   "outputs": [],
   "source": [
    "# Instructions: Filter the DataFrame to show only products in the 'Electronics' category with a price greater than $20.\n",
    "# Hint: Use boolean indexing to filter the rows."
   ]
  },
  {
   "cell_type": "markdown",
   "id": "cc993186",
   "metadata": {},
   "source": [
    "## Exercise 3: Calculating Summary Statistics"
   ]
  },
  {
   "cell_type": "code",
   "execution_count": null,
   "id": "340f86e4",
   "metadata": {},
   "outputs": [],
   "source": [
    "# Instructions: Calculate the mean price of products in the 'Hardware' category.\n",
    "# Hint: Use the `mean()` function after filtering the DataFrame."
   ]
  },
  {
   "cell_type": "markdown",
   "id": "aa2498fe",
   "metadata": {},
   "source": [
    "## Exercise 4: Grouping Data"
   ]
  },
  {
   "cell_type": "code",
   "execution_count": null,
   "id": "b9ee7a41",
   "metadata": {},
   "outputs": [],
   "source": [
    "# Instructions: Group the DataFrame by 'Category' and calculate the total stock quantity for each category.\n",
    "# Hint: Use the `groupby()` function combined with `sum()`."
   ]
  },
  {
   "cell_type": "markdown",
   "id": "d5cf0a7b",
   "metadata": {},
   "source": [
    "## Exercise 5: Sorting Data"
   ]
  },
  {
   "cell_type": "code",
   "execution_count": null,
   "id": "a45680f9",
   "metadata": {},
   "outputs": [],
   "source": [
    "# Instructions: Sort the DataFrame by 'Price' in descending order and display the top 5 most expensive products.\n",
    "# Hint: Use the `sort_values()` function with the appropriate parameters."
   ]
  }
 ],
 "metadata": {
  "language_info": {
   "name": "python"
  }
 },
 "nbformat": 4,
 "nbformat_minor": 5
}
