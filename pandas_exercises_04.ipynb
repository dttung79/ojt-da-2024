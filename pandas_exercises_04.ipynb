{
 "cells": [
  {
   "cell_type": "markdown",
   "id": "d3c644df",
   "metadata": {},
   "source": [
    "# Data Cleaning Exercises\n",
    "\n",
    "These exercises will help you practice cleaning and analyzing data using pandas."
   ]
  },
  {
   "cell_type": "markdown",
   "id": "41ba7c7f",
   "metadata": {},
   "source": [
    "## Exercise 1: Checking for Missing Data\n",
    "Check if there are any missing values in the dataset. Write code to check how many missing values there are in each column."
   ]
  },
  {
   "cell_type": "code",
   "execution_count": null,
   "id": "de1ebfc3",
   "metadata": {},
   "outputs": [],
   "source": [
    "# Use .isnull().sum() to check for missing values"
   ]
  },
  {
   "cell_type": "markdown",
   "id": "4c0c6ca1",
   "metadata": {},
   "source": [
    "## Exercise 2: Dropping Missing Values\n",
    "Drop any rows with missing values from the dataset."
   ]
  },
  {
   "cell_type": "code",
   "execution_count": null,
   "id": "306ac9ce",
   "metadata": {},
   "outputs": [],
   "source": [
    "# Use .dropna() to drop rows with missing values"
   ]
  },
  {
   "cell_type": "markdown",
   "id": "f2352641",
   "metadata": {},
   "source": [
    "## Exercise 3: Replacing Missing Values\n",
    "Replace any missing values in the \"Quantity\" column with the mean of that column."
   ]
  },
  {
   "cell_type": "code",
   "execution_count": null,
   "id": "0d4229db",
   "metadata": {},
   "outputs": [],
   "source": [
    "# Use .fillna() to replace missing values with the mean of \"Quantity\""
   ]
  },
  {
   "cell_type": "markdown",
   "id": "bcf687d8",
   "metadata": {},
   "source": [
    "## Exercise 4: Removing Duplicates\n",
    "Remove any duplicate rows from the dataset."
   ]
  },
  {
   "cell_type": "code",
   "execution_count": null,
   "id": "c26241c3",
   "metadata": {},
   "outputs": [],
   "source": [
    "# Use .drop_duplicates() to remove duplicate rows"
   ]
  },
  {
   "cell_type": "markdown",
   "id": "313d36e8",
   "metadata": {},
   "source": [
    "## Exercise 5: Renaming Columns\n",
    "Rename the \"ProductCategory\" column to \"Category\"."
   ]
  },
  {
   "cell_type": "code",
   "execution_count": null,
   "id": "180dcf79",
   "metadata": {},
   "outputs": [],
   "source": [
    "# Use .rename() to rename the \"ProductCategory\" column"
   ]
  },
  {
   "cell_type": "markdown",
   "id": "00e6dd2d",
   "metadata": {},
   "source": [
    "## Exercise 6: Summary Statistics\n",
    "Calculate the mean, median, and mode for the \"Price\" column."
   ]
  },
  {
   "cell_type": "code",
   "execution_count": null,
   "id": "6063eebf",
   "metadata": {},
   "outputs": [],
   "source": [
    "# Use .mean(), .median(), and .mode() to calculate summary statistics for \"Price\""
   ]
  },
  {
   "cell_type": "markdown",
   "id": "1ffa560e",
   "metadata": {},
   "source": [
    "## Exercise 7: Creating New Columns\n",
    "Create a new column called \"TotalCost\" which is the sum of \"Price\" and \"ShippingCost\"."
   ]
  },
  {
   "cell_type": "code",
   "execution_count": null,
   "id": "9bbbc838",
   "metadata": {},
   "outputs": [],
   "source": [
    "# Use simple arithmetic to create a new column \"TotalCost\""
   ]
  },
  {
   "cell_type": "markdown",
   "id": "c9819766",
   "metadata": {},
   "source": [
    "## Exercise 8: Counting Categories\n",
    "Count the number of orders for each \"Category\"."
   ]
  },
  {
   "cell_type": "code",
   "execution_count": null,
   "id": "e41d19bb",
   "metadata": {},
   "outputs": [],
   "source": [
    "# Use .value_counts() to count the occurrences of each category in \"ProductCategory\""
   ]
  },
  {
   "cell_type": "markdown",
   "id": "509166b3",
   "metadata": {},
   "source": [
    "## Exercise 9: Aggregating Data\n",
    "Group the data by \"DeliveredOnTime\" and calculate the average \"Price\" for each group."
   ]
  },
  {
   "cell_type": "code",
   "execution_count": null,
   "id": "0413b778",
   "metadata": {},
   "outputs": [],
   "source": [
    "# Use .groupby() to group by \"DeliveredOnTime\" and calculate the mean of \"Price\""
   ]
  }
 ],
 "metadata": {},
 "nbformat": 4,
 "nbformat_minor": 5
}
