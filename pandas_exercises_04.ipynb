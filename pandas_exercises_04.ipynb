{
 "cells": [
  {
   "cell_type": "markdown",
   "id": "d3c644df",
   "metadata": {},
   "source": [
    "# Data Cleaning Exercises\n",
    "\n",
    "These exercises will help you practice cleaning and analyzing data using pandas."
   ]
  },
  {
   "cell_type": "markdown",
   "id": "41ba7c7f",
   "metadata": {},
   "source": [
    "## Exercise 1: Checking for Missing Data\n",
    "Check if there are any missing values in the dataset. Write code to check how many missing values there are in each column."
   ]
  },
  {
   "cell_type": "code",
   "execution_count": 12,
   "id": "de1ebfc3",
   "metadata": {},
   "outputs": [
    {
     "name": "stdout",
     "output_type": "stream",
     "text": [
      "OrderID            0\n",
      "CustomerID         0\n",
      "ProductCategory    0\n",
      "Quantity           3\n",
      "Price              1\n",
      "ShippingCost       4\n",
      "OrderDate          0\n",
      "DeliveredOnTime    0\n",
      "dtype: int64\n"
     ]
    }
   ],
   "source": [
    "import pandas as pd\n",
    "df = pd.read_csv(\"ecommerce_data.csv\")  \n",
    "missing_values = df.isnull().sum()\n",
    "print(missing_values)"
   ]
  },
  {
   "cell_type": "markdown",
   "id": "4c0c6ca1",
   "metadata": {},
   "source": [
    "## Exercise 2: Dropping Missing Values\n",
    "Drop any rows with missing values from the dataset."
   ]
  },
  {
   "cell_type": "code",
   "execution_count": 4,
   "id": "306ac9ce",
   "metadata": {},
   "outputs": [
    {
     "name": "stdout",
     "output_type": "stream",
     "text": [
      "(100, 8)\n",
      "(92, 8)\n"
     ]
    }
   ],
   "source": [
    "# Use .dropna() to drop rows with missing values\n",
    "print(df.shape)\n",
    "df_cleaned = df.dropna()\n",
    "print(df_cleaned.shape)"
   ]
  },
  {
   "cell_type": "markdown",
   "id": "f2352641",
   "metadata": {},
   "source": [
    "## Exercise 3: Replacing Missing Values\n",
    "Replace any missing values in the \"Quantity\" column with the mean of that column."
   ]
  },
  {
   "cell_type": "code",
   "execution_count": 7,
   "id": "0d4229db",
   "metadata": {},
   "outputs": [
    {
     "name": "stdout",
     "output_type": "stream",
     "text": [
      "OrderID            0\n",
      "CustomerID         0\n",
      "ProductCategory    0\n",
      "Quantity           0\n",
      "Price              0\n",
      "ShippingCost       0\n",
      "OrderDate          0\n",
      "DeliveredOnTime    0\n",
      "dtype: int64\n"
     ]
    }
   ],
   "source": [
    "# Use .fillna() to replace missing values with the mean of \"Quantity\"\n",
    "mean_quantity = df['Quantity'].mean()\n",
    "#df['Quantity'].fillna(mean_quantity, inplace=True)\n",
    "df.fillna(mean_quantity, inplace=True)\n",
    "# verify that we have no missing values\n",
    "print(df.isnull().sum())"
   ]
  },
  {
   "cell_type": "markdown",
   "id": "bcf687d8",
   "metadata": {},
   "source": [
    "## Exercise 4: Removing Duplicates\n",
    "Remove any duplicate rows from the dataset."
   ]
  },
  {
   "cell_type": "code",
   "execution_count": 15,
   "id": "c26241c3",
   "metadata": {},
   "outputs": [
    {
     "name": "stdout",
     "output_type": "stream",
     "text": [
      "1\n",
      "(100, 8)\n"
     ]
    }
   ],
   "source": [
    "# Use .drop_duplicates() to remove duplicate rows\n",
    "# check the number of duplicates\n",
    "print(df.duplicated().sum())\n",
    "df_no_duplicates = df.drop_duplicates()\n",
    "print(df_no_duplicates.shape)"
   ]
  },
  {
   "cell_type": "markdown",
   "id": "313d36e8",
   "metadata": {},
   "source": [
    "## Exercise 5: Renaming Columns\n",
    "Rename the \"ProductCategory\" column to \"Category\"."
   ]
  },
  {
   "cell_type": "code",
   "execution_count": 17,
   "id": "180dcf79",
   "metadata": {},
   "outputs": [
    {
     "name": "stdout",
     "output_type": "stream",
     "text": [
      "   OrderID  CustomerID  Category  Quantity   Price  ShippingCost   OrderDate  \\\n",
      "0        1        1102      Home       1.0  128.51         31.59  2023-01-01   \n",
      "1        2        1435  Clothing       4.0   55.62          6.37  2023-01-02   \n",
      "2        3        1860  Clothing       4.0  449.64          6.68  2023-01-03   \n",
      "3        4        1270  Clothing       5.0  451.20         42.02  2023-01-04   \n",
      "4        5        1106      Home       7.0  320.22         21.21  2023-01-05   \n",
      "\n",
      "   DeliveredOnTime  \n",
      "0            False  \n",
      "1             True  \n",
      "2             True  \n",
      "3             True  \n",
      "4            False  \n"
     ]
    }
   ],
   "source": [
    "# Use .rename() to rename the \"ProductCategory\" column\n",
    "df_renamed = df.rename(columns={'ProductCategory': 'Category'})\n",
    "print(df_renamed.head())"
   ]
  },
  {
   "cell_type": "markdown",
   "id": "00e6dd2d",
   "metadata": {},
   "source": [
    "## Exercise 6: Summary Statistics\n",
    "Calculate the mean, median, and mode for the \"Price\" column."
   ]
  },
  {
   "cell_type": "code",
   "execution_count": 18,
   "id": "6063eebf",
   "metadata": {},
   "outputs": [
    {
     "name": "stdout",
     "output_type": "stream",
     "text": [
      "Mean: 274.3462, Median: 291.005, Mode: 0    150.41\n",
      "Name: Price, dtype: float64\n"
     ]
    }
   ],
   "source": [
    "# Use .mean(), .median(), and .mode() to calculate summary statistics for \"Price\"\n",
    "mean_price = df['Price'].mean()\n",
    "median_price = df['Price'].median()\n",
    "mode_price = df['Price'].mode()\n",
    "print(f\"Mean: {mean_price}, Median: {median_price}, Mode: {mode_price}\")"
   ]
  },
  {
   "cell_type": "markdown",
   "id": "1ffa560e",
   "metadata": {},
   "source": [
    "## Exercise 7: Creating New Columns\n",
    "Create a new column called \"TotalCost\" which is the sum of \"Price\" and \"ShippingCost\"."
   ]
  },
  {
   "cell_type": "code",
   "execution_count": 20,
   "id": "9bbbc838",
   "metadata": {},
   "outputs": [
    {
     "name": "stdout",
     "output_type": "stream",
     "text": [
      "   OrderID  CustomerID ProductCategory  Quantity   Price  ShippingCost  \\\n",
      "0        1        1102            Home       1.0  128.51         31.59   \n",
      "1        2        1435        Clothing       4.0   55.62          6.37   \n",
      "2        3        1860        Clothing       4.0  449.64          6.68   \n",
      "3        4        1270        Clothing       5.0  451.20         42.02   \n",
      "4        5        1106            Home       7.0  320.22         21.21   \n",
      "\n",
      "    OrderDate  DeliveredOnTime  TotalCost  \n",
      "0  2023-01-01            False     160.10  \n",
      "1  2023-01-02             True      61.99  \n",
      "2  2023-01-03             True     456.32  \n",
      "3  2023-01-04             True     493.22  \n",
      "4  2023-01-05            False     341.43  \n"
     ]
    }
   ],
   "source": [
    "# Use simple arithmetic to create a new column \"TotalCost\"\n",
    "df['TotalCost'] = df['Price'] + df['ShippingCost']\n",
    "print(df.head())"
   ]
  },
  {
   "cell_type": "markdown",
   "id": "c9819766",
   "metadata": {},
   "source": [
    "## Exercise 8: Counting Categories\n",
    "Count the number of orders for each \"Category\"."
   ]
  },
  {
   "cell_type": "code",
   "execution_count": 22,
   "id": "e41d19bb",
   "metadata": {},
   "outputs": [
    {
     "name": "stdout",
     "output_type": "stream",
     "text": [
      "ProductCategory\n",
      "Books          32\n",
      "Electronics    26\n",
      "Home           25\n",
      "Clothing       18\n",
      "Name: count, dtype: int64\n"
     ]
    }
   ],
   "source": [
    "# Use .value_counts() to count the occurrences of each category in \"ProductCategory\"\n",
    "category_counts = df['ProductCategory'].value_counts()\n",
    "print(category_counts)"
   ]
  },
  {
   "cell_type": "markdown",
   "id": "509166b3",
   "metadata": {},
   "source": [
    "## Exercise 9: Aggregating Data\n",
    "Group the data by \"DeliveredOnTime\" and calculate the average \"Price\" for each group."
   ]
  },
  {
   "cell_type": "code",
   "execution_count": 23,
   "id": "0413b778",
   "metadata": {},
   "outputs": [
    {
     "name": "stdout",
     "output_type": "stream",
     "text": [
      "DeliveredOnTime\n",
      "False    256.152955\n",
      "True     288.640893\n",
      "Name: Price, dtype: float64\n"
     ]
    }
   ],
   "source": [
    "# Use .groupby() to group by \"DeliveredOnTime\" and calculate the mean of \"Price\"\n",
    "average_price_by_delivery = df.groupby('DeliveredOnTime')['Price'].mean()\n",
    "print(average_price_by_delivery)"
   ]
  }
 ],
 "metadata": {
  "kernelspec": {
   "display_name": "Python 3",
   "language": "python",
   "name": "python3"
  },
  "language_info": {
   "codemirror_mode": {
    "name": "ipython",
    "version": 3
   },
   "file_extension": ".py",
   "mimetype": "text/x-python",
   "name": "python",
   "nbconvert_exporter": "python",
   "pygments_lexer": "ipython3",
   "version": "3.12.4"
  }
 },
 "nbformat": 4,
 "nbformat_minor": 5
}
